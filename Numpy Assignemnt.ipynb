{
 "cells": [
  {
   "cell_type": "markdown",
   "id": "0bb201e3-ecb7-4cac-9bed-803a42a09cd4",
   "metadata": {},
   "source": [
    "# <span style=\"color:purple\">Assignment: Numpy"
   ]
  },
  {
   "cell_type": "code",
   "execution_count": 1,
   "id": "14e57641-4ce6-4419-b604-9e74f5833d72",
   "metadata": {},
   "outputs": [],
   "source": [
    "import numpy as np\n",
    "list_ = [ '1' , '2' , '3' , '4' , '5']\n",
    "array_list = np.array(object = list_)"
   ]
  },
  {
   "cell_type": "markdown",
   "id": "636e5b8d-b32a-476a-a919-c263ead67044",
   "metadata": {},
   "source": [
    "### <span style=\"color:purple\"> Q1. Is there any difference in the data type of variables list_ and array_list? If there is then write a code to print the data types of both the variables."
   ]
  },
  {
   "cell_type": "markdown",
   "id": "77e952eb-ab18-42c4-a14d-c0479f147e85",
   "metadata": {},
   "source": [
    "Yes, there is a difference in the data type of the variables list_ and array_list.\n",
    "\n",
    "The variable list_ is a Python list, which can hold elements of different data types. In this case, the elements in list_ are strings: '1', '2', '3', '4', and '5'.\n",
    "\n",
    "On the other hand, the variable array_list is a NumPy array created from the list_ using the np.array() function. NumPy arrays are homogeneous, meaning they can only contain elements of the same data type. In this case, since all the elements in list_ are strings, the resulting array_list will also have a data type of string."
   ]
  },
  {
   "cell_type": "code",
   "execution_count": 2,
   "id": "ad549c17-4783-4820-a19d-60f19de6e5d7",
   "metadata": {},
   "outputs": [
    {
     "data": {
      "text/plain": [
       "list"
      ]
     },
     "execution_count": 2,
     "metadata": {},
     "output_type": "execute_result"
    }
   ],
   "source": [
    "type(list_)"
   ]
  },
  {
   "cell_type": "markdown",
   "id": "2d44fae9-adb8-44c2-b93e-44d077487ef1",
   "metadata": {},
   "source": [
    "print statement will display the data type of list_ as <class 'list'>, indicating that it is a Python list."
   ]
  },
  {
   "cell_type": "code",
   "execution_count": 3,
   "id": "3916908a-9507-4e71-9fb4-d4169198dbc6",
   "metadata": {},
   "outputs": [
    {
     "data": {
      "text/plain": [
       "numpy.ndarray"
      ]
     },
     "execution_count": 3,
     "metadata": {},
     "output_type": "execute_result"
    }
   ],
   "source": [
    "type(array_list)"
   ]
  },
  {
   "cell_type": "markdown",
   "id": "10bf47e2-4216-452c-869a-927b5237e640",
   "metadata": {},
   "source": [
    "print statement will display the data type of array_list as <class 'numpy.ndarray'>, indicating that it is a NumPy array."
   ]
  },
  {
   "cell_type": "markdown",
   "id": "1120a00b-6cee-40e1-a6bd-077a02541be0",
   "metadata": {},
   "source": [
    "### <span style=\"color:purple\"> Q2. Write a code to print the data type of each and every element of both the variables list_ and array_list."
   ]
  },
  {
   "cell_type": "code",
   "execution_count": 4,
   "id": "b86ae117-1eb3-4819-bf96-67ef11401b5a",
   "metadata": {},
   "outputs": [
    {
     "name": "stdout",
     "output_type": "stream",
     "text": [
      "<class 'numpy.str_'>\n",
      "<class 'numpy.str_'>\n",
      "<class 'numpy.str_'>\n",
      "<class 'numpy.str_'>\n",
      "<class 'numpy.str_'>\n"
     ]
    }
   ],
   "source": [
    "for i in array_list:\n",
    "    print (type(i))"
   ]
  },
  {
   "cell_type": "markdown",
   "id": "762857ad-121d-40a5-838a-3c7cb7466670",
   "metadata": {},
   "source": [
    "Note that for the array_list, the data type of each element is numpy.str_ because NumPy arrays have their own string data type."
   ]
  },
  {
   "cell_type": "code",
   "execution_count": 5,
   "id": "90d00aa7-0645-4704-9127-e1c9651519ff",
   "metadata": {},
   "outputs": [
    {
     "name": "stdout",
     "output_type": "stream",
     "text": [
      "<class 'str'>\n",
      "<class 'str'>\n",
      "<class 'str'>\n",
      "<class 'str'>\n",
      "<class 'str'>\n"
     ]
    }
   ],
   "source": [
    "for i in list_:\n",
    "    print(type(i))"
   ]
  },
  {
   "cell_type": "markdown",
   "id": "d65dd5ce-0108-4e4e-bff2-124960061bb9",
   "metadata": {},
   "source": [
    "### <span style=\"color:purple\"> Q3. Considering the following changes in the variable, array_list:\n",
    "\n",
    "### <span style=\"color:purple\"> Will there be any difference in the data type of the elements present in both the variables, list_ and array_list? If so then print the data types of each and every element present in both the variables, list_ and array_list."
   ]
  },
  {
   "cell_type": "code",
   "execution_count": 6,
   "id": "14496bac-2f10-44d7-a2a5-ad77ea098701",
   "metadata": {},
   "outputs": [],
   "source": [
    "array_list = np.array(object = list_, dtype = int)"
   ]
  },
  {
   "cell_type": "code",
   "execution_count": 7,
   "id": "0d198b46-5a6d-43d2-95f1-af547bbdd48e",
   "metadata": {},
   "outputs": [
    {
     "name": "stdout",
     "output_type": "stream",
     "text": [
      "<class 'numpy.int64'>\n",
      "<class 'numpy.int64'>\n",
      "<class 'numpy.int64'>\n",
      "<class 'numpy.int64'>\n",
      "<class 'numpy.int64'>\n"
     ]
    }
   ],
   "source": [
    "for i in array_list:\n",
    "    print(type(i))"
   ]
  },
  {
   "cell_type": "code",
   "execution_count": 8,
   "id": "eae592cf-0832-4bc1-a53c-96b796cf822c",
   "metadata": {},
   "outputs": [
    {
     "name": "stdout",
     "output_type": "stream",
     "text": [
      "<class 'str'>\n",
      "<class 'str'>\n",
      "<class 'str'>\n",
      "<class 'str'>\n",
      "<class 'str'>\n"
     ]
    }
   ],
   "source": [
    "for i in list_:\n",
    "    print(type(i))"
   ]
  },
  {
   "cell_type": "markdown",
   "id": "7f00cebb-3c1f-4847-9ac0-4d2392bcc221",
   "metadata": {},
   "source": [
    "As we can notice, the above code changes only the type of elements in array_list to numpy.int64 ei. to integer type.\n",
    "but it doesn't affect the data type of the elements in the list_. The elements in list_ still remains as 'str' type."
   ]
  },
  {
   "cell_type": "markdown",
   "id": "77888216-4677-4da4-9cb4-de953a98529c",
   "metadata": {},
   "source": [
    "### <span style= 'color:purple'> Consider the below code to answer further questions:"
   ]
  },
  {
   "cell_type": "code",
   "execution_count": 9,
   "id": "68ea80cd-321a-469d-b200-bf8873c1a61e",
   "metadata": {},
   "outputs": [],
   "source": [
    "import numpy as np\n",
    "num_list = [ [ 1 , 2 , 3 ] , [ 4 , 5 , 6 ] ]\n",
    "num_array = np.array(object = num_list)"
   ]
  },
  {
   "cell_type": "markdown",
   "id": "db07de81-5cd3-4e8d-b141-5ffff7b88021",
   "metadata": {},
   "source": [
    "### <span style=\"color:purple\"> Q4. Write a code to find the following characteristics of variable, num_array:\n",
    "### <span style=\"color:purple\">(i) shape\n",
    "### <span style=\"color:purple\">(ii) size\n"
   ]
  },
  {
   "cell_type": "code",
   "execution_count": 10,
   "id": "3be41afd-390d-44a8-b3b4-aaec543563e0",
   "metadata": {},
   "outputs": [
    {
     "data": {
      "text/plain": [
       "(2, 3)"
      ]
     },
     "execution_count": 10,
     "metadata": {},
     "output_type": "execute_result"
    }
   ],
   "source": [
    "num_array.shape"
   ]
  },
  {
   "cell_type": "code",
   "execution_count": 11,
   "id": "1c932639-49b7-4b8a-b6ef-02f5789d3000",
   "metadata": {},
   "outputs": [
    {
     "data": {
      "text/plain": [
       "6"
      ]
     },
     "execution_count": 11,
     "metadata": {},
     "output_type": "execute_result"
    }
   ],
   "source": [
    "num_array.size"
   ]
  },
  {
   "cell_type": "markdown",
   "id": "09dccc6a-4a47-4b1e-9b4a-368be8e6a06f",
   "metadata": {},
   "source": [
    "Size shows the number of element present in an array.\n",
    "Shape shows the numbe rof rows adn columns present in an array."
   ]
  },
  {
   "cell_type": "markdown",
   "id": "4636de0c-9b9c-42da-a62a-720b0adc3bd6",
   "metadata": {},
   "source": [
    "### <span style= 'color:purple'>Q5. Write a code to create numpy array of 3*3 matrix containing zeros only, using a numpy array creation function.\n",
    "[Hint: The size of the array will be 9 and the shape will be (3,3).]"
   ]
  },
  {
   "cell_type": "code",
   "execution_count": 12,
   "id": "cf237304-5bad-4fc1-8d7e-dd017bbeb4e5",
   "metadata": {},
   "outputs": [],
   "source": [
    "import numpy.matlib as nm"
   ]
  },
  {
   "cell_type": "code",
   "execution_count": 13,
   "id": "864c214a-ab82-48fe-a0b6-8e6b56751053",
   "metadata": {},
   "outputs": [],
   "source": [
    "Matrix=nm.zeros((3,3))"
   ]
  },
  {
   "cell_type": "code",
   "execution_count": 14,
   "id": "669847ff-1881-4caf-915c-d4de2e10d57d",
   "metadata": {},
   "outputs": [
    {
     "data": {
      "text/plain": [
       "matrix([[0., 0., 0.],\n",
       "        [0., 0., 0.],\n",
       "        [0., 0., 0.]])"
      ]
     },
     "execution_count": 14,
     "metadata": {},
     "output_type": "execute_result"
    }
   ],
   "source": [
    "Matrix"
   ]
  },
  {
   "cell_type": "code",
   "execution_count": 15,
   "id": "8a4e67d3-42f6-4084-a7d1-1edccf6e32c2",
   "metadata": {},
   "outputs": [
    {
     "data": {
      "text/plain": [
       "(3, 3)"
      ]
     },
     "execution_count": 15,
     "metadata": {},
     "output_type": "execute_result"
    }
   ],
   "source": [
    "Matrix.shape"
   ]
  },
  {
   "cell_type": "code",
   "execution_count": 16,
   "id": "f1c1dca7-1901-4a78-9a6c-daec1a3fa429",
   "metadata": {},
   "outputs": [
    {
     "data": {
      "text/plain": [
       "9"
      ]
     },
     "execution_count": 16,
     "metadata": {},
     "output_type": "execute_result"
    }
   ],
   "source": [
    "Matrix.size"
   ]
  },
  {
   "cell_type": "markdown",
   "id": "70cba6a0-8485-4195-89bd-5aeec117f3af",
   "metadata": {},
   "source": [
    "### <span style = 'color:purple'> Q6. Create an identity matrix of shape (5,5) using numpy functions?\n",
    "[Hint: An identity matrix is a matrix containing 1 diagonally and other elements will be 0.]"
   ]
  },
  {
   "cell_type": "code",
   "execution_count": 17,
   "id": "8b407e95-cda5-44f3-b5b8-48cd4aecad27",
   "metadata": {},
   "outputs": [
    {
     "data": {
      "text/plain": [
       "array([[1., 0., 0., 0., 0.],\n",
       "       [0., 1., 0., 0., 0.],\n",
       "       [0., 0., 1., 0., 0.],\n",
       "       [0., 0., 0., 1., 0.],\n",
       "       [0., 0., 0., 0., 1.]])"
      ]
     },
     "execution_count": 17,
     "metadata": {},
     "output_type": "execute_result"
    }
   ],
   "source": [
    "np.eye(5)"
   ]
  },
  {
   "cell_type": "markdown",
   "id": "59d3c544-f11d-4f3d-9bab-e97b2a0c7624",
   "metadata": {},
   "source": [
    "## <span style= 'color:purple'>THE END"
   ]
  },
  {
   "cell_type": "code",
   "execution_count": null,
   "id": "0beafa2d-6948-4b63-aad9-8137ef1d40ca",
   "metadata": {},
   "outputs": [],
   "source": []
  }
 ],
 "metadata": {
  "kernelspec": {
   "display_name": "Python 3 (ipykernel)",
   "language": "python",
   "name": "python3"
  },
  "language_info": {
   "codemirror_mode": {
    "name": "ipython",
    "version": 3
   },
   "file_extension": ".py",
   "mimetype": "text/x-python",
   "name": "python",
   "nbconvert_exporter": "python",
   "pygments_lexer": "ipython3",
   "version": "3.10.8"
  }
 },
 "nbformat": 4,
 "nbformat_minor": 5
}
